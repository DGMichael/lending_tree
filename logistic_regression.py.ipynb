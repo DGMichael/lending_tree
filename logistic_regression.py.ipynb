{
 "metadata": {
  "name": "",
  "signature": "sha256:2ce0d116bf18ccf329c3fd58e16aa0e7cbc445d9e38cf1cbbd455979d72a960c"
 },
 "nbformat": 3,
 "nbformat_minor": 0,
 "worksheets": [
  {
   "cells": [
    {
     "cell_type": "code",
     "collapsed": false,
     "input": [
      "#Logistic Regression\n",
      "#Load the cleaned loan data:\n",
      "import pandas as pd\n",
      "import matplotlib.pyplot as plt\n",
      "import numpy as np\n",
      "import statsmodels.api as sm\n",
      "import math"
     ],
     "language": "python",
     "metadata": {},
     "outputs": [],
     "prompt_number": 94
    },
    {
     "cell_type": "code",
     "collapsed": false,
     "input": [
      "#Load cleaned data:\n",
      "loansData = pd.read_csv(\"loansData_clean.csv\")"
     ],
     "language": "python",
     "metadata": {},
     "outputs": [],
     "prompt_number": 95
    },
    {
     "cell_type": "code",
     "collapsed": false,
     "input": [
      "#Generate IR_TF Column:\n",
      "IR_TF = loansData[\"Interest.Rate\"].map(lambda x: 1 if x > 0.12 else 0)\n",
      "loansData[\"IR_TF\"] = IR_TF"
     ],
     "language": "python",
     "metadata": {},
     "outputs": [],
     "prompt_number": 96
    },
    {
     "cell_type": "code",
     "collapsed": false,
     "input": [
      "#Generate intercept column of 1:\n",
      "loansData[\"intercept\"] = 1"
     ],
     "language": "python",
     "metadata": {},
     "outputs": [],
     "prompt_number": 97
    },
    {
     "cell_type": "code",
     "collapsed": false,
     "input": [
      "#Generate list of independent variable column names:\n",
      "ind_list = [\"FICO.Score\", \"Amount.Requested\", \"intercept\"]\n"
     ],
     "language": "python",
     "metadata": {},
     "outputs": [],
     "prompt_number": 98
    },
    {
     "cell_type": "code",
     "collapsed": false,
     "input": [
      "#Visual check for integrity of loansData df:\n",
      "loansData[0:5]"
     ],
     "language": "python",
     "metadata": {},
     "outputs": [
      {
       "html": [
        "<div style=\"max-height:1000px;max-width:1500px;overflow:auto;\">\n",
        "<table border=\"1\" class=\"dataframe\">\n",
        "  <thead>\n",
        "    <tr style=\"text-align: right;\">\n",
        "      <th></th>\n",
        "      <th>Amount.Requested</th>\n",
        "      <th>Amount.Funded.By.Investors</th>\n",
        "      <th>Interest.Rate</th>\n",
        "      <th>Loan.Length</th>\n",
        "      <th>Loan.Purpose</th>\n",
        "      <th>Debt.To.Income.Ratio</th>\n",
        "      <th>State</th>\n",
        "      <th>Home.Ownership</th>\n",
        "      <th>Monthly.Income</th>\n",
        "      <th>FICO.Range</th>\n",
        "      <th>Open.CREDIT.Lines</th>\n",
        "      <th>Revolving.CREDIT.Balance</th>\n",
        "      <th>Inquiries.in.the.Last.6.Months</th>\n",
        "      <th>Employment.Length</th>\n",
        "      <th>FICO.Score</th>\n",
        "      <th>IR_TF</th>\n",
        "      <th>intercept</th>\n",
        "    </tr>\n",
        "  </thead>\n",
        "  <tbody>\n",
        "    <tr>\n",
        "      <th>0</th>\n",
        "      <td> 20000</td>\n",
        "      <td> 20000</td>\n",
        "      <td> 0.0890</td>\n",
        "      <td> 36</td>\n",
        "      <td> debt_consolidation</td>\n",
        "      <td> 14.90%</td>\n",
        "      <td> SC</td>\n",
        "      <td> MORTGAGE</td>\n",
        "      <td>  6541.67</td>\n",
        "      <td> 735-739</td>\n",
        "      <td> 14</td>\n",
        "      <td> 14272</td>\n",
        "      <td> 2</td>\n",
        "      <td> &lt; 1 year</td>\n",
        "      <td> 735</td>\n",
        "      <td> 0</td>\n",
        "      <td> 1</td>\n",
        "    </tr>\n",
        "    <tr>\n",
        "      <th>1</th>\n",
        "      <td> 19200</td>\n",
        "      <td> 19200</td>\n",
        "      <td> 0.1212</td>\n",
        "      <td> 36</td>\n",
        "      <td> debt_consolidation</td>\n",
        "      <td> 28.36%</td>\n",
        "      <td> TX</td>\n",
        "      <td> MORTGAGE</td>\n",
        "      <td>  4583.33</td>\n",
        "      <td> 715-719</td>\n",
        "      <td> 12</td>\n",
        "      <td> 11140</td>\n",
        "      <td> 1</td>\n",
        "      <td>  2 years</td>\n",
        "      <td> 715</td>\n",
        "      <td> 1</td>\n",
        "      <td> 1</td>\n",
        "    </tr>\n",
        "    <tr>\n",
        "      <th>2</th>\n",
        "      <td> 35000</td>\n",
        "      <td> 35000</td>\n",
        "      <td> 0.2198</td>\n",
        "      <td> 60</td>\n",
        "      <td> debt_consolidation</td>\n",
        "      <td> 23.81%</td>\n",
        "      <td> CA</td>\n",
        "      <td> MORTGAGE</td>\n",
        "      <td> 11500.00</td>\n",
        "      <td> 690-694</td>\n",
        "      <td> 14</td>\n",
        "      <td> 21977</td>\n",
        "      <td> 1</td>\n",
        "      <td>  2 years</td>\n",
        "      <td> 690</td>\n",
        "      <td> 1</td>\n",
        "      <td> 1</td>\n",
        "    </tr>\n",
        "    <tr>\n",
        "      <th>3</th>\n",
        "      <td> 10000</td>\n",
        "      <td>  9975</td>\n",
        "      <td> 0.0999</td>\n",
        "      <td> 36</td>\n",
        "      <td> debt_consolidation</td>\n",
        "      <td> 14.30%</td>\n",
        "      <td> KS</td>\n",
        "      <td> MORTGAGE</td>\n",
        "      <td>  3833.33</td>\n",
        "      <td> 695-699</td>\n",
        "      <td> 10</td>\n",
        "      <td>  9346</td>\n",
        "      <td> 0</td>\n",
        "      <td>  5 years</td>\n",
        "      <td> 695</td>\n",
        "      <td> 0</td>\n",
        "      <td> 1</td>\n",
        "    </tr>\n",
        "    <tr>\n",
        "      <th>4</th>\n",
        "      <td> 12000</td>\n",
        "      <td> 12000</td>\n",
        "      <td> 0.1171</td>\n",
        "      <td> 36</td>\n",
        "      <td>        credit_card</td>\n",
        "      <td> 18.78%</td>\n",
        "      <td> NJ</td>\n",
        "      <td>     RENT</td>\n",
        "      <td>  3195.00</td>\n",
        "      <td> 695-699</td>\n",
        "      <td> 11</td>\n",
        "      <td> 14469</td>\n",
        "      <td> 0</td>\n",
        "      <td>  9 years</td>\n",
        "      <td> 695</td>\n",
        "      <td> 0</td>\n",
        "      <td> 1</td>\n",
        "    </tr>\n",
        "  </tbody>\n",
        "</table>\n",
        "</div>"
       ],
       "metadata": {},
       "output_type": "pyout",
       "prompt_number": 99,
       "text": [
        "   Amount.Requested  Amount.Funded.By.Investors  Interest.Rate  Loan.Length  \\\n",
        "0             20000                       20000         0.0890           36   \n",
        "1             19200                       19200         0.1212           36   \n",
        "2             35000                       35000         0.2198           60   \n",
        "3             10000                        9975         0.0999           36   \n",
        "4             12000                       12000         0.1171           36   \n",
        "\n",
        "         Loan.Purpose Debt.To.Income.Ratio State Home.Ownership  \\\n",
        "0  debt_consolidation               14.90%    SC       MORTGAGE   \n",
        "1  debt_consolidation               28.36%    TX       MORTGAGE   \n",
        "2  debt_consolidation               23.81%    CA       MORTGAGE   \n",
        "3  debt_consolidation               14.30%    KS       MORTGAGE   \n",
        "4         credit_card               18.78%    NJ           RENT   \n",
        "\n",
        "   Monthly.Income FICO.Range  Open.CREDIT.Lines  Revolving.CREDIT.Balance  \\\n",
        "0         6541.67    735-739                 14                     14272   \n",
        "1         4583.33    715-719                 12                     11140   \n",
        "2        11500.00    690-694                 14                     21977   \n",
        "3         3833.33    695-699                 10                      9346   \n",
        "4         3195.00    695-699                 11                     14469   \n",
        "\n",
        "   Inquiries.in.the.Last.6.Months Employment.Length  FICO.Score  IR_TF  \\\n",
        "0                               2          < 1 year         735      0   \n",
        "1                               1           2 years         715      1   \n",
        "2                               1           2 years         690      1   \n",
        "3                               0           5 years         695      0   \n",
        "4                               0           9 years         695      0   \n",
        "\n",
        "   intercept  \n",
        "0          1  \n",
        "1          1  \n",
        "2          1  \n",
        "3          1  \n",
        "4          1  "
       ]
      }
     ],
     "prompt_number": 99
    },
    {
     "cell_type": "code",
     "collapsed": false,
     "input": [
      "#Logistic Regression Modeling:\n",
      "#Calculate the probability of getting a 10k loan at the Lending Club for <= 12% interest rate, with a FICO score of 750.\n",
      "\n",
      "#Generate model:\n",
      "##interest_rate = b + a1(FICOscore) + a2(LoanAmount)\n",
      "##interest_rate = b+ a1(750) + a2(10000)\n",
      "\n",
      "logit = sm.Logit(loansData[\"IR_TF\"], loansData[ind_list])\n",
      "#First arg = dependent variable, second set is pass the dataframe a list of independent variables.\n",
      "result = logit.fit()"
     ],
     "language": "python",
     "metadata": {},
     "outputs": [
      {
       "output_type": "stream",
       "stream": "stdout",
       "text": [
        "Optimization terminated successfully.\n",
        "         Current function value: 0.319503\n",
        "         Iterations 8\n"
       ]
      }
     ],
     "prompt_number": 100
    },
    {
     "cell_type": "code",
     "collapsed": false,
     "input": [
      "#Get fitted coefficients from model:\n",
      "coeff = result.params\n",
      "coeff\n",
      "intercept = 60.125045\n"
     ],
     "language": "python",
     "metadata": {},
     "outputs": [],
     "prompt_number": 120
    },
    {
     "cell_type": "code",
     "collapsed": false,
     "input": [
      "def logistic_fn_coeff(fico_score, loan_amt, coeff):\n",
      "    fico_coeff, amt_coeff, intercept = coeff.values\n",
      "    prob_loan = 1 /(1+ math.e**(float(intercept) + float(fico_coeff)*(fico_score) + float(amt_coeff)*(loan_amt)))\n",
      "    return prob_loan"
     ],
     "language": "python",
     "metadata": {},
     "outputs": [],
     "prompt_number": 135
    },
    {
     "cell_type": "code",
     "collapsed": false,
     "input": [
      "def logistic_fn(fico_score, loan_amt):\n",
      "    fico_coeff, amt_coeff, intercept = coeff.values\n",
      "    prob_loan = 1 /(1+ math.e**(60.125045 - 0.087423*(fico_score) + 0.000174*(loan_amt)))\n",
      "    return prob_loan"
     ],
     "language": "python",
     "metadata": {},
     "outputs": [],
     "prompt_number": 136
    },
    {
     "cell_type": "code",
     "collapsed": false,
     "input": [
      "p = logistic_fn(720,10000)\n",
      "p"
     ],
     "language": "python",
     "metadata": {},
     "outputs": [
      {
       "metadata": {},
       "output_type": "pyout",
       "prompt_number": 142,
       "text": [
        "0.7464021906183342"
       ]
      }
     ],
     "prompt_number": 142
    },
    {
     "cell_type": "code",
     "collapsed": false,
     "input": [
      "p2 = logistic_fn_coeff(720,10000,coeff)\n",
      "p2"
     ],
     "language": "python",
     "metadata": {},
     "outputs": [
      {
       "metadata": {},
       "output_type": "pyout",
       "prompt_number": 147,
       "text": [
        "0.7463785889515137"
       ]
      }
     ],
     "prompt_number": 147
    },
    {
     "cell_type": "code",
     "collapsed": false,
     "input": [
      "%matplotlib inline\n",
      "#Evaluate fn return:\n",
      "fn_output = [logistic_fn(i,10000) for i in range(0,800,1)]\n",
      "plt.plot(range(0,800,1),fn_output)\n",
      "plt.title(\"P(10k loan, <12%), delta(FICO)\")\n",
      "plt.ylabel(\"Probability\")\n",
      "plt.xlabel(\"FICO Score\")\n",
      "plt.ylim([-0.1,1.1])\n",
      "plt.xlim([600,800])"
     ],
     "language": "python",
     "metadata": {},
     "outputs": [
      {
       "metadata": {},
       "output_type": "pyout",
       "prompt_number": 185,
       "text": [
        "(600, 800)"
       ]
      },
      {
       "metadata": {},
       "output_type": "display_data",
       "png": "[encoded data removed]",
       "text": [
        "<matplotlib.figure.Figure at 0x112f3afd0>"
       ]
      }
     ],
     "prompt_number": 185
    },
    {
     "cell_type": "code",
     "collapsed": false,
     "input": [
      "#Predictor_fn\n",
      "def pred_fn(fico, loan_amt, coeff):\n",
      "    pLoan = logistic_fn_coeff(fico,loan_amt,coeff)\n",
      "    if pLoan >= 0.7:\n",
      "        return True\n",
      "    else:\n",
      "        return False"
     ],
     "language": "python",
     "metadata": {},
     "outputs": [],
     "prompt_number": 170
    },
    {
     "cell_type": "code",
     "collapsed": false,
     "input": [
      "pred_fn(700,12000,coeff)"
     ],
     "language": "python",
     "metadata": {},
     "outputs": [
      {
       "metadata": {},
       "output_type": "pyout",
       "prompt_number": 172,
       "text": [
        "False"
       ]
      }
     ],
     "prompt_number": 172
    },
    {
     "cell_type": "code",
     "collapsed": false,
     "input": [
      "pred_fn(718,10000,coeff)"
     ],
     "language": "python",
     "metadata": {},
     "outputs": [
      {
       "metadata": {},
       "output_type": "pyout",
       "prompt_number": 181,
       "text": [
        "True"
       ]
      }
     ],
     "prompt_number": 181
    },
    {
     "cell_type": "code",
     "collapsed": false,
     "input": [],
     "language": "python",
     "metadata": {},
     "outputs": []
    }
   ],
   "metadata": {}
  }
 ]
}